{
  "cells": [
    {
      "cell_type": "markdown",
      "metadata": {
        "id": "fZdwQTzUmwkM"
      },
      "source": [
        "# Get into another Drive"
      ]
    },
    {
      "cell_type": "code",
      "execution_count": null,
      "metadata": {
        "id": "YH_M2odpofMc",
        "colab": {
          "base_uri": "https://localhost:8080/"
        },
        "outputId": "7c4583ba-3ff4-4a2e-d508-792dea7d01d7"
      },
      "outputs": [
        {
          "output_type": "stream",
          "name": "stdout",
          "text": [
            "\n",
            "WARNING: apt does not have a stable CLI interface. Use with caution in scripts.\n",
            "\n",
            "debconf: unable to initialize frontend: Dialog\n",
            "debconf: (No usable dialog-like program is installed, so the dialog based frontend cannot be used. at /usr/share/perl5/Debconf/FrontEnd/Dialog.pm line 76, <> line 1.)\n",
            "debconf: falling back to frontend: Readline\n",
            "debconf: unable to initialize frontend: Readline\n",
            "debconf: (This frontend requires a controlling tty.)\n",
            "debconf: falling back to frontend: Teletype\n",
            "dpkg-preconfigure: unable to re-open stdin: \n",
            "/usr/bin/xdg-open: 869: www-browser: not found\n",
            "/usr/bin/xdg-open: 869: links2: not found\n",
            "/usr/bin/xdg-open: 869: elinks: not found\n",
            "/usr/bin/xdg-open: 869: links: not found\n",
            "/usr/bin/xdg-open: 869: lynx: not found\n",
            "/usr/bin/xdg-open: 869: w3m: not found\n",
            "xdg-open: no method available for opening 'https://accounts.google.com/o/oauth2/auth?client_id=564921029129.apps.googleusercontent.com&redirect_uri=https%3A%2F%2Fgd-ocaml-auth.appspot.com%2Foauth2callback&scope=https%3A%2F%2Fwww.googleapis.com%2Fauth%2Fdrive&response_type=code&access_type=offline&approval_prompt=force&state=LaWgFpM6gaOAZ4QtiNP%2FYwkl2S9r78wy7Z7RNdFQYQI'\n",
            "/bin/sh: 1: firefox: not found\n",
            "/bin/sh: 1: google-chrome: not found\n",
            "/bin/sh: 1: chromium-browser: not found\n",
            "/bin/sh: 1: open: not found\n",
            "Cannot retrieve auth tokens.\n",
            "Failure(\"Error opening URL:https://accounts.google.com/o/oauth2/auth?client_id=564921029129.apps.googleusercontent.com&redirect_uri=https%3A%2F%2Fgd-ocaml-auth.appspot.com%2Foauth2callback&scope=https%3A%2F%2Fwww.googleapis.com%2Fauth%2Fdrive&response_type=code&access_type=offline&approval_prompt=force&state=LaWgFpM6gaOAZ4QtiNP%2FYwkl2S9r78wy7Z7RNdFQYQI\")\n"
          ]
        }
      ],
      "source": [
        "!sudo add-apt-repository -y ppa:alessandro-strada/ppa 2>&1 > /dev/null\n",
        "!sudo apt-get update -qq 2>&1 > /dev/null\n",
        "!sudo apt -y install -qq google-drive-ocamlfuse 2>&1 > /dev/null\n",
        "!google-drive-ocamlfuse"
      ]
    },
    {
      "cell_type": "code",
      "execution_count": null,
      "metadata": {
        "id": "Ee2sUqO4mwgc",
        "colab": {
          "base_uri": "https://localhost:8080/"
        },
        "outputId": "ada36282-a420-4146-c044-779f53e21978"
      },
      "outputs": [
        {
          "output_type": "stream",
          "name": "stdout",
          "text": [
            "debconf: unable to initialize frontend: Dialog\n",
            "debconf: (No usable dialog-like program is installed, so the dialog based frontend cannot be used. at /usr/share/perl5/Debconf/FrontEnd/Dialog.pm line 76, <> line 1.)\n",
            "debconf: falling back to frontend: Readline\n",
            "debconf: unable to initialize frontend: Readline\n",
            "debconf: (This frontend requires a controlling tty.)\n",
            "debconf: falling back to frontend: Teletype\n",
            "dpkg-preconfigure: unable to re-open stdin: \n",
            "Selecting previously unselected package w3m.\n",
            "(Reading database ... 123074 files and directories currently installed.)\n",
            "Preparing to unpack .../w3m_0.5.3-37ubuntu0.1_amd64.deb ...\n",
            "Unpacking w3m (0.5.3-37ubuntu0.1) ...\n",
            "Setting up w3m (0.5.3-37ubuntu0.1) ...\n",
            "Processing triggers for man-db (2.9.1-1) ...\n",
            "Processing triggers for mime-support (3.64ubuntu1) ...\n",
            "/content\n",
            "/content/drive\n",
            "/content\n",
            "/\n",
            "Access token retrieved correctly.\n"
          ]
        }
      ],
      "source": [
        "!sudo apt-get install -qq w3m # to act as web browser\n",
        "!xdg-settings set default-web-browser w3m.desktop # to set default browser\n",
        "%cd /content\n",
        "!mkdir drive\n",
        "%cd drive\n",
        "!mkdir MyDrive\n",
        "%cd ..\n",
        "%cd ..\n",
        "!google-drive-ocamlfuse /content/drive/MyDrive"
      ]
    },
    {
      "cell_type": "code",
      "execution_count": null,
      "metadata": {
        "id": "BAeyzjDFCiKs",
        "colab": {
          "base_uri": "https://localhost:8080/"
        },
        "outputId": "78be7d52-9d99-442b-a453-a76a452939e7"
      },
      "outputs": [
        {
          "output_type": "stream",
          "name": "stdout",
          "text": [
            "/content\n"
          ]
        }
      ],
      "source": [
        "%cd /content"
      ]
    },
    {
      "cell_type": "markdown",
      "metadata": {
        "id": "o-5PpfhMrAO7"
      },
      "source": [
        "# Cloning github and setting environment variables"
      ]
    },
    {
      "cell_type": "code",
      "execution_count": null,
      "metadata": {
        "id": "JZ8wyD5Vap6Y"
      },
      "outputs": [],
      "source": [
        "from IPython.display import clear_output\n",
        "\n",
        "! git clone https://github.com/LeTruongVu2k1/Customized-nnUNet.git\n",
        "! cd Customized-nnUNet\n",
        "! pip install -e ./Customized-nnUNet\n",
        "\n",
        "\n",
        "clear_output()"
      ]
    },
    {
      "cell_type": "code",
      "execution_count": null,
      "metadata": {
        "id": "HYhjwFWwDh7L"
      },
      "outputs": [],
      "source": [
        "import os"
      ]
    },
    {
      "cell_type": "code",
      "execution_count": null,
      "metadata": {
        "id": "gJZaW9dM6H3g"
      },
      "outputs": [],
      "source": [
        "os.environ['nnUNet_raw'] = \"drive/MyDrive/nnUNet_augmented/nnUNet_raw\"\n",
        "os.environ['nnUNet_preprocessed'] = \"drive/MyDrive/nnUNet_augmented/nnUNet_preprocessed\"\n",
        "os.environ['nnUNet_results'] = \"drive/MyDrive/nnUNet_augmented/nnUNet_results\""
      ]
    },
    {
      "cell_type": "code",
      "execution_count": null,
      "metadata": {
        "colab": {
          "base_uri": "https://localhost:8080/"
        },
        "id": "NCiHGLT_8lwH",
        "outputId": "a064a00d-c429-4237-cf0d-7d4f966ac76e"
      },
      "outputs": [
        {
          "output_type": "stream",
          "name": "stdout",
          "text": [
            "drive/MyDrive/nnUNet_augmented/nnUNet_raw\n"
          ]
        }
      ],
      "source": [
        "!echo ${nnUNet_raw}"
      ]
    },
    {
      "cell_type": "code",
      "execution_count": null,
      "metadata": {
        "id": "ZLuD9lpxH7kw"
      },
      "outputs": [],
      "source": [
        "# ! nnUNetv2_plan_and_preprocess -d 001 --verify_dataset_integrity -np 8"
      ]
    },
    {
      "cell_type": "markdown",
      "metadata": {
        "id": "KsdSJ9EjoV-n"
      },
      "source": [
        "# Training"
      ]
    },
    {
      "cell_type": "code",
      "execution_count": null,
      "metadata": {
        "colab": {
          "base_uri": "https://localhost:8080/"
        },
        "id": "fVTZUWuJM9ou",
        "outputId": "3a1989b1-4c1f-4d0a-cc63-0279c406db21"
      },
      "outputs": [
        {
          "name": "stdout",
          "output_type": "stream",
          "text": [
            "Using device: cuda:0\n",
            "\n",
            "#######################################################################\n",
            "Please cite the following paper when using nnU-Net:\n",
            "Isensee, F., Jaeger, P. F., Kohl, S. A., Petersen, J., & Maier-Hein, K. H. (2021). nnU-Net: a self-configuring method for deep learning-based biomedical image segmentation. Nature methods, 18(2), 203-211.\n",
            "#######################################################################\n",
            "\n",
            "\n",
            "This is the configuration used by this training:\n",
            "Configuration name: 2d\n",
            " {'data_identifier': 'nnUNetPlans_2d', 'preprocessor_name': 'DefaultPreprocessor', 'batch_size': 23, 'patch_size': [256, 192], 'median_image_size_in_voxels': [251.5, 186.0], 'spacing': [1.0, 1.0], 'normalization_schemes': ['ZScoreNormalization'], 'use_mask_for_norm': [True], 'UNet_class_name': 'PlainConvUNet', 'UNet_base_num_features': 32, 'n_conv_per_stage_encoder': [2, 2, 2, 2, 2, 2], 'n_conv_per_stage_decoder': [2, 2, 2, 2, 2], 'num_pool_per_axis': [5, 5], 'pool_op_kernel_sizes': [[1, 1], [2, 2], [2, 2], [2, 2], [2, 2], [2, 2]], 'conv_kernel_sizes': [[3, 3], [3, 3], [3, 3], [3, 3], [3, 3], [3, 3]], 'unet_max_num_features': 512, 'resampling_fn_data': 'resample_data_or_seg_to_shape', 'resampling_fn_seg': 'resample_data_or_seg_to_shape', 'resampling_fn_data_kwargs': {'is_seg': False, 'order': 3, 'order_z': 0, 'force_separate_z': None}, 'resampling_fn_seg_kwargs': {'is_seg': True, 'order': 1, 'order_z': 0, 'force_separate_z': None}, 'resampling_fn_probabilities': 'resample_data_or_seg_to_shape', 'resampling_fn_probabilities_kwargs': {'is_seg': False, 'order': 1, 'order_z': 0, 'force_separate_z': None}, 'batch_dice': True} \n",
            "\n",
            "These are the global plan.json settings:\n",
            " {'dataset_name': 'Dataset001_Liver', 'plans_name': 'nnUNetPlans', 'original_median_spacing_after_transp': [1.0, 1.0, 1.0], 'original_median_shape_after_transp': [30, 252, 186], 'image_reader_writer': 'SimpleITKIO', 'transpose_forward': [0, 1, 2], 'transpose_backward': [0, 1, 2], 'experiment_planner_used': 'ExperimentPlanner', 'label_manager': 'LabelManager', 'foreground_intensity_properties_per_channel': {'0': {'max': 1.0, 'mean': 0.2606104910373688, 'median': 0.24769647419452667, 'min': 0.0, 'percentile_00_5': 0.06384892016649246, 'percentile_99_5': 0.6531020402908325, 'std': 0.0987810268998146}}} \n",
            "\n",
            "2023-05-03 06:02:16.385615: unpacking dataset...\n",
            "2023-05-03 06:03:40.228831: unpacking done...\n",
            "2023-05-03 06:03:41.522293: do_dummy_2d_data_aug: False\n",
            "2023-05-03 06:03:43.230654: Using splits from existing split file: drive/MyDrive/nnUNet/nnUNet_preprocessed/Dataset001_Liver/splits_final.json\n",
            "2023-05-03 06:03:44.974247: The split file contains 5 splits.\n",
            "2023-05-03 06:03:46.258533: Desired fold for training: 0\n",
            "2023-05-03 06:03:48.546420: This split has 12 training and 4 validation cases.\n",
            "2023-05-03 06:04:09.404052: Unable to plot network architecture:\n",
            "2023-05-03 06:04:10.843835: No module named 'hiddenlayer'\n",
            "2023-05-03 06:04:20.109060: Training done.\n",
            "2023-05-03 06:04:21.928932: Using splits from existing split file: drive/MyDrive/nnUNet/nnUNet_preprocessed/Dataset001_Liver/splits_final.json\n",
            "2023-05-03 06:04:23.292997: The split file contains 5 splits.\n",
            "2023-05-03 06:04:24.969895: Desired fold for training: 0\n",
            "2023-05-03 06:04:26.054103: This split has 12 training and 4 validation cases.\n",
            "2023-05-03 06:04:27.574163: predicting 1\n",
            "2023-05-03 06:04:38.208237: predicting 3\n",
            "2023-05-03 06:04:50.110157: predicting 32\n",
            "2023-05-03 06:04:59.681148: predicting 36\n",
            "2023-05-03 06:06:02.308210: Validation complete\n",
            "2023-05-03 06:06:04.287183: Mean Validation Dice:  0.9077339928330801\n",
            "Using device: cuda:0\n",
            "\n",
            "#######################################################################\n",
            "Please cite the following paper when using nnU-Net:\n",
            "Isensee, F., Jaeger, P. F., Kohl, S. A., Petersen, J., & Maier-Hein, K. H. (2021). nnU-Net: a self-configuring method for deep learning-based biomedical image segmentation. Nature methods, 18(2), 203-211.\n",
            "#######################################################################\n",
            "\n",
            "\n",
            "This is the configuration used by this training:\n",
            "Configuration name: 2d\n",
            " {'data_identifier': 'nnUNetPlans_2d', 'preprocessor_name': 'DefaultPreprocessor', 'batch_size': 23, 'patch_size': [256, 192], 'median_image_size_in_voxels': [251.5, 186.0], 'spacing': [1.0, 1.0], 'normalization_schemes': ['ZScoreNormalization'], 'use_mask_for_norm': [True], 'UNet_class_name': 'PlainConvUNet', 'UNet_base_num_features': 32, 'n_conv_per_stage_encoder': [2, 2, 2, 2, 2, 2], 'n_conv_per_stage_decoder': [2, 2, 2, 2, 2], 'num_pool_per_axis': [5, 5], 'pool_op_kernel_sizes': [[1, 1], [2, 2], [2, 2], [2, 2], [2, 2], [2, 2]], 'conv_kernel_sizes': [[3, 3], [3, 3], [3, 3], [3, 3], [3, 3], [3, 3]], 'unet_max_num_features': 512, 'resampling_fn_data': 'resample_data_or_seg_to_shape', 'resampling_fn_seg': 'resample_data_or_seg_to_shape', 'resampling_fn_data_kwargs': {'is_seg': False, 'order': 3, 'order_z': 0, 'force_separate_z': None}, 'resampling_fn_seg_kwargs': {'is_seg': True, 'order': 1, 'order_z': 0, 'force_separate_z': None}, 'resampling_fn_probabilities': 'resample_data_or_seg_to_shape', 'resampling_fn_probabilities_kwargs': {'is_seg': False, 'order': 1, 'order_z': 0, 'force_separate_z': None}, 'batch_dice': True} \n",
            "\n",
            "These are the global plan.json settings:\n",
            " {'dataset_name': 'Dataset001_Liver', 'plans_name': 'nnUNetPlans', 'original_median_spacing_after_transp': [1.0, 1.0, 1.0], 'original_median_shape_after_transp': [30, 252, 186], 'image_reader_writer': 'SimpleITKIO', 'transpose_forward': [0, 1, 2], 'transpose_backward': [0, 1, 2], 'experiment_planner_used': 'ExperimentPlanner', 'label_manager': 'LabelManager', 'foreground_intensity_properties_per_channel': {'0': {'max': 1.0, 'mean': 0.2606104910373688, 'median': 0.24769647419452667, 'min': 0.0, 'percentile_00_5': 0.06384892016649246, 'percentile_99_5': 0.6531020402908325, 'std': 0.0987810268998146}}} \n",
            "\n",
            "2023-05-03 06:06:22.870161: unpacking dataset...\n",
            "2023-05-03 06:06:24.243564: unpacking done...\n",
            "2023-05-03 06:06:25.515882: do_dummy_2d_data_aug: False\n",
            "2023-05-03 06:06:27.300204: Using splits from existing split file: drive/MyDrive/nnUNet/nnUNet_preprocessed/Dataset001_Liver/splits_final.json\n",
            "2023-05-03 06:06:29.364371: The split file contains 5 splits.\n",
            "2023-05-03 06:06:31.493316: Desired fold for training: 1\n",
            "2023-05-03 06:06:32.632195: This split has 13 training and 3 validation cases.\n",
            "2023-05-03 06:06:45.219383: Unable to plot network architecture:\n",
            "2023-05-03 06:06:46.490719: No module named 'hiddenlayer'\n",
            "2023-05-03 06:06:54.126873: Training done.\n",
            "2023-05-03 06:06:56.434208: Using splits from existing split file: drive/MyDrive/nnUNet/nnUNet_preprocessed/Dataset001_Liver/splits_final.json\n",
            "2023-05-03 06:06:57.580432: The split file contains 5 splits.\n",
            "2023-05-03 06:06:58.768332: Desired fold for training: 1\n",
            "2023-05-03 06:07:00.821075: This split has 13 training and 3 validation cases.\n",
            "2023-05-03 06:07:02.911651: predicting 19\n",
            "2023-05-03 06:07:09.872432: predicting 22\n",
            "2023-05-03 06:07:17.838103: predicting 37\n",
            "2023-05-03 06:08:06.245939: Validation complete\n",
            "2023-05-03 06:08:07.329074: Mean Validation Dice:  0.944332383446147\n",
            "Using device: cuda:0\n",
            "\n",
            "#######################################################################\n",
            "Please cite the following paper when using nnU-Net:\n",
            "Isensee, F., Jaeger, P. F., Kohl, S. A., Petersen, J., & Maier-Hein, K. H. (2021). nnU-Net: a self-configuring method for deep learning-based biomedical image segmentation. Nature methods, 18(2), 203-211.\n",
            "#######################################################################\n",
            "\n",
            "\n",
            "This is the configuration used by this training:\n",
            "Configuration name: 2d\n",
            " {'data_identifier': 'nnUNetPlans_2d', 'preprocessor_name': 'DefaultPreprocessor', 'batch_size': 23, 'patch_size': [256, 192], 'median_image_size_in_voxels': [251.5, 186.0], 'spacing': [1.0, 1.0], 'normalization_schemes': ['ZScoreNormalization'], 'use_mask_for_norm': [True], 'UNet_class_name': 'PlainConvUNet', 'UNet_base_num_features': 32, 'n_conv_per_stage_encoder': [2, 2, 2, 2, 2, 2], 'n_conv_per_stage_decoder': [2, 2, 2, 2, 2], 'num_pool_per_axis': [5, 5], 'pool_op_kernel_sizes': [[1, 1], [2, 2], [2, 2], [2, 2], [2, 2], [2, 2]], 'conv_kernel_sizes': [[3, 3], [3, 3], [3, 3], [3, 3], [3, 3], [3, 3]], 'unet_max_num_features': 512, 'resampling_fn_data': 'resample_data_or_seg_to_shape', 'resampling_fn_seg': 'resample_data_or_seg_to_shape', 'resampling_fn_data_kwargs': {'is_seg': False, 'order': 3, 'order_z': 0, 'force_separate_z': None}, 'resampling_fn_seg_kwargs': {'is_seg': True, 'order': 1, 'order_z': 0, 'force_separate_z': None}, 'resampling_fn_probabilities': 'resample_data_or_seg_to_shape', 'resampling_fn_probabilities_kwargs': {'is_seg': False, 'order': 1, 'order_z': 0, 'force_separate_z': None}, 'batch_dice': True} \n",
            "\n",
            "These are the global plan.json settings:\n",
            " {'dataset_name': 'Dataset001_Liver', 'plans_name': 'nnUNetPlans', 'original_median_spacing_after_transp': [1.0, 1.0, 1.0], 'original_median_shape_after_transp': [30, 252, 186], 'image_reader_writer': 'SimpleITKIO', 'transpose_forward': [0, 1, 2], 'transpose_backward': [0, 1, 2], 'experiment_planner_used': 'ExperimentPlanner', 'label_manager': 'LabelManager', 'foreground_intensity_properties_per_channel': {'0': {'max': 1.0, 'mean': 0.2606104910373688, 'median': 0.24769647419452667, 'min': 0.0, 'percentile_00_5': 0.06384892016649246, 'percentile_99_5': 0.6531020402908325, 'std': 0.0987810268998146}}} \n",
            "\n",
            "2023-05-03 06:08:26.335727: unpacking dataset...\n",
            "2023-05-03 06:08:39.357858: unpacking done...\n",
            "2023-05-03 06:08:40.442224: do_dummy_2d_data_aug: False\n",
            "2023-05-03 06:08:41.488816: Using splits from existing split file: drive/MyDrive/nnUNet/nnUNet_preprocessed/Dataset001_Liver/splits_final.json\n",
            "2023-05-03 06:08:43.469877: The split file contains 5 splits.\n",
            "2023-05-03 06:08:45.583124: Desired fold for training: 2\n",
            "2023-05-03 06:08:57.424010: This split has 13 training and 3 validation cases.\n",
            "2023-05-03 06:09:08.486673: Unable to plot network architecture:\n",
            "2023-05-03 06:09:09.822345: No module named 'hiddenlayer'\n",
            "2023-05-03 06:09:18.054139: Training done.\n",
            "2023-05-03 06:09:19.813930: Using splits from existing split file: drive/MyDrive/nnUNet/nnUNet_preprocessed/Dataset001_Liver/splits_final.json\n",
            "2023-05-03 06:09:20.931781: The split file contains 5 splits.\n",
            "2023-05-03 06:09:23.015113: Desired fold for training: 2\n",
            "2023-05-03 06:09:24.927315: This split has 13 training and 3 validation cases.\n",
            "2023-05-03 06:09:26.903857: predicting 34\n",
            "2023-05-03 06:09:31.242242: predicting 5\n",
            "2023-05-03 06:09:38.250270: predicting 8\n",
            "2023-05-03 06:10:31.129985: Validation complete\n",
            "2023-05-03 06:10:32.236976: Mean Validation Dice:  0.9261174187778466\n",
            "Using device: cuda:0\n",
            "\n",
            "#######################################################################\n",
            "Please cite the following paper when using nnU-Net:\n",
            "Isensee, F., Jaeger, P. F., Kohl, S. A., Petersen, J., & Maier-Hein, K. H. (2021). nnU-Net: a self-configuring method for deep learning-based biomedical image segmentation. Nature methods, 18(2), 203-211.\n",
            "#######################################################################\n",
            "\n",
            "\n",
            "This is the configuration used by this training:\n",
            "Configuration name: 2d\n",
            " {'data_identifier': 'nnUNetPlans_2d', 'preprocessor_name': 'DefaultPreprocessor', 'batch_size': 23, 'patch_size': [256, 192], 'median_image_size_in_voxels': [251.5, 186.0], 'spacing': [1.0, 1.0], 'normalization_schemes': ['ZScoreNormalization'], 'use_mask_for_norm': [True], 'UNet_class_name': 'PlainConvUNet', 'UNet_base_num_features': 32, 'n_conv_per_stage_encoder': [2, 2, 2, 2, 2, 2], 'n_conv_per_stage_decoder': [2, 2, 2, 2, 2], 'num_pool_per_axis': [5, 5], 'pool_op_kernel_sizes': [[1, 1], [2, 2], [2, 2], [2, 2], [2, 2], [2, 2]], 'conv_kernel_sizes': [[3, 3], [3, 3], [3, 3], [3, 3], [3, 3], [3, 3]], 'unet_max_num_features': 512, 'resampling_fn_data': 'resample_data_or_seg_to_shape', 'resampling_fn_seg': 'resample_data_or_seg_to_shape', 'resampling_fn_data_kwargs': {'is_seg': False, 'order': 3, 'order_z': 0, 'force_separate_z': None}, 'resampling_fn_seg_kwargs': {'is_seg': True, 'order': 1, 'order_z': 0, 'force_separate_z': None}, 'resampling_fn_probabilities': 'resample_data_or_seg_to_shape', 'resampling_fn_probabilities_kwargs': {'is_seg': False, 'order': 1, 'order_z': 0, 'force_separate_z': None}, 'batch_dice': True} \n",
            "\n",
            "These are the global plan.json settings:\n",
            " {'dataset_name': 'Dataset001_Liver', 'plans_name': 'nnUNetPlans', 'original_median_spacing_after_transp': [1.0, 1.0, 1.0], 'original_median_shape_after_transp': [30, 252, 186], 'image_reader_writer': 'SimpleITKIO', 'transpose_forward': [0, 1, 2], 'transpose_backward': [0, 1, 2], 'experiment_planner_used': 'ExperimentPlanner', 'label_manager': 'LabelManager', 'foreground_intensity_properties_per_channel': {'0': {'max': 1.0, 'mean': 0.2606104910373688, 'median': 0.24769647419452667, 'min': 0.0, 'percentile_00_5': 0.06384892016649246, 'percentile_99_5': 0.6531020402908325, 'std': 0.0987810268998146}}} \n",
            "\n",
            "2023-05-03 06:10:49.562656: unpacking dataset...\n",
            "2023-05-03 06:11:17.194911: unpacking done...\n",
            "2023-05-03 06:11:18.365143: do_dummy_2d_data_aug: False\n",
            "2023-05-03 06:11:19.571817: Using splits from existing split file: drive/MyDrive/nnUNet/nnUNet_preprocessed/Dataset001_Liver/splits_final.json\n",
            "2023-05-03 06:11:22.489466: The split file contains 5 splits.\n",
            "2023-05-03 06:11:23.635761: Desired fold for training: 3\n",
            "2023-05-03 06:11:25.013611: This split has 13 training and 3 validation cases.\n",
            "2023-05-03 06:11:38.653813: Unable to plot network architecture:\n",
            "2023-05-03 06:11:40.043265: No module named 'hiddenlayer'\n",
            "2023-05-03 06:11:47.017299: Training done.\n",
            "2023-05-03 06:11:48.787925: Using splits from existing split file: drive/MyDrive/nnUNet/nnUNet_preprocessed/Dataset001_Liver/splits_final.json\n",
            "2023-05-03 06:11:51.329024: The split file contains 5 splits.\n",
            "2023-05-03 06:11:52.664664: Desired fold for training: 3\n",
            "2023-05-03 06:11:54.702320: This split has 13 training and 3 validation cases.\n",
            "2023-05-03 06:11:56.801702: predicting 13\n",
            "2023-05-03 06:12:05.161108: predicting 20\n",
            "2023-05-03 06:12:14.581517: predicting 33\n",
            "2023-05-03 06:13:01.445493: Validation complete\n",
            "2023-05-03 06:13:02.636512: Mean Validation Dice:  0.9313490750040453\n",
            "Using device: cuda:0\n",
            "\n",
            "#######################################################################\n",
            "Please cite the following paper when using nnU-Net:\n",
            "Isensee, F., Jaeger, P. F., Kohl, S. A., Petersen, J., & Maier-Hein, K. H. (2021). nnU-Net: a self-configuring method for deep learning-based biomedical image segmentation. Nature methods, 18(2), 203-211.\n",
            "#######################################################################\n",
            "\n",
            "\n",
            "This is the configuration used by this training:\n",
            "Configuration name: 2d\n",
            " {'data_identifier': 'nnUNetPlans_2d', 'preprocessor_name': 'DefaultPreprocessor', 'batch_size': 23, 'patch_size': [256, 192], 'median_image_size_in_voxels': [251.5, 186.0], 'spacing': [1.0, 1.0], 'normalization_schemes': ['ZScoreNormalization'], 'use_mask_for_norm': [True], 'UNet_class_name': 'PlainConvUNet', 'UNet_base_num_features': 32, 'n_conv_per_stage_encoder': [2, 2, 2, 2, 2, 2], 'n_conv_per_stage_decoder': [2, 2, 2, 2, 2], 'num_pool_per_axis': [5, 5], 'pool_op_kernel_sizes': [[1, 1], [2, 2], [2, 2], [2, 2], [2, 2], [2, 2]], 'conv_kernel_sizes': [[3, 3], [3, 3], [3, 3], [3, 3], [3, 3], [3, 3]], 'unet_max_num_features': 512, 'resampling_fn_data': 'resample_data_or_seg_to_shape', 'resampling_fn_seg': 'resample_data_or_seg_to_shape', 'resampling_fn_data_kwargs': {'is_seg': False, 'order': 3, 'order_z': 0, 'force_separate_z': None}, 'resampling_fn_seg_kwargs': {'is_seg': True, 'order': 1, 'order_z': 0, 'force_separate_z': None}, 'resampling_fn_probabilities': 'resample_data_or_seg_to_shape', 'resampling_fn_probabilities_kwargs': {'is_seg': False, 'order': 1, 'order_z': 0, 'force_separate_z': None}, 'batch_dice': True} \n",
            "\n",
            "These are the global plan.json settings:\n",
            " {'dataset_name': 'Dataset001_Liver', 'plans_name': 'nnUNetPlans', 'original_median_spacing_after_transp': [1.0, 1.0, 1.0], 'original_median_shape_after_transp': [30, 252, 186], 'image_reader_writer': 'SimpleITKIO', 'transpose_forward': [0, 1, 2], 'transpose_backward': [0, 1, 2], 'experiment_planner_used': 'ExperimentPlanner', 'label_manager': 'LabelManager', 'foreground_intensity_properties_per_channel': {'0': {'max': 1.0, 'mean': 0.2606104910373688, 'median': 0.24769647419452667, 'min': 0.0, 'percentile_00_5': 0.06384892016649246, 'percentile_99_5': 0.6531020402908325, 'std': 0.0987810268998146}}} \n",
            "\n",
            "2023-05-03 06:13:19.713665: unpacking dataset...\n",
            "2023-05-03 06:13:44.555511: unpacking done...\n",
            "2023-05-03 06:13:45.769181: do_dummy_2d_data_aug: False\n",
            "2023-05-03 06:13:47.973798: Using splits from existing split file: drive/MyDrive/nnUNet/nnUNet_preprocessed/Dataset001_Liver/splits_final.json\n",
            "2023-05-03 06:13:49.477580: The split file contains 5 splits.\n",
            "2023-05-03 06:13:50.717000: Desired fold for training: 4\n",
            "2023-05-03 06:13:52.690551: This split has 13 training and 3 validation cases.\n",
            "2023-05-03 06:14:04.626044: Unable to plot network architecture:\n",
            "2023-05-03 06:14:05.950151: No module named 'hiddenlayer'\n",
            "2023-05-03 06:14:15.133280: Training done.\n",
            "2023-05-03 06:14:16.774639: Using splits from existing split file: drive/MyDrive/nnUNet/nnUNet_preprocessed/Dataset001_Liver/splits_final.json\n",
            "2023-05-03 06:14:18.394078: The split file contains 5 splits.\n",
            "2023-05-03 06:14:19.526288: Desired fold for training: 4\n",
            "2023-05-03 06:14:21.602967: This split has 13 training and 3 validation cases.\n",
            "2023-05-03 06:14:23.639202: predicting 15\n",
            "2023-05-03 06:14:27.784202: predicting 21\n",
            "2023-05-03 06:14:35.003604: predicting 38\n",
            "2023-05-03 06:15:44.170275: Validation complete\n",
            "2023-05-03 06:15:45.349858: Mean Validation Dice:  0.6407844336636894\n"
          ]
        }
      ],
      "source": [
        "folds = [0,1,2,3,4]\n",
        "\n",
        "for FOLD in folds:\n",
        "  ! nnUNetv2_train 001 2d {FOLD} --npz --c"
      ]
    },
    {
      "cell_type": "code",
      "execution_count": null,
      "metadata": {
        "id": "_XSjO4vWEgWS"
      },
      "outputs": [],
      "source": [
        "# !cp -R Dataset001_Liver/nnUNetTrainer__nnUNetPlans__2d drive/MyDrive/"
      ]
    },
    {
      "cell_type": "markdown",
      "metadata": {
        "id": "Fy_MC90qrNcC"
      },
      "source": [
        "# Inference"
      ]
    },
    {
      "cell_type": "code",
      "execution_count": null,
      "metadata": {
        "colab": {
          "base_uri": "https://localhost:8080/"
        },
        "id": "pptx1AkbHOWR",
        "outputId": "e10980e5-8e5d-41e0-f0ec-6b16e36f2347"
      },
      "outputs": [
        {
          "name": "stdout",
          "output_type": "stream",
          "text": [
            "\n",
            "***All results:***\n",
            "nnUNetTrainer__nnUNetPlans__2d: 0.8724178690004691\n",
            "\n",
            "*Best*: nnUNetTrainer__nnUNetPlans__2d: 0.8724178690004691\n",
            "\n",
            "***Determining postprocessing for best model/ensemble***\n",
            "Results were improved by removing all but the largest foreground region. Mean dice before: 0.87242 after: 0.87474\n",
            "\n",
            "***Run inference like this:***\n",
            "\n",
            "nnUNetv2_predict -d Dataset001_Liver -i INPUT_FOLDER -o OUTPUT_FOLDER -f  0 1 2 3 4 -tr nnUNetTrainer -c 2d -p nnUNetPlans\n",
            "\n",
            "***Once inference is completed, run postprocessing like this:***\n",
            "\n",
            "nnUNetv2_apply_postprocessing -i OUTPUT_FOLDER -o OUTPUT_FOLDER_PP -pp_pkl_file drive/MyDrive/nnUNet/nnUNet_results/Dataset001_Liver/nnUNetTrainer__nnUNetPlans__2d/crossval_results_folds_0_1_2_3_4/postprocessing.pkl -np 8 -plans_json drive/MyDrive/nnUNet/nnUNet_results/Dataset001_Liver/nnUNetTrainer__nnUNetPlans__2d/crossval_results_folds_0_1_2_3_4/plans.json\n"
          ]
        }
      ],
      "source": [
        "! nnUNetv2_find_best_configuration 001 -c 2d"
      ]
    },
    {
      "cell_type": "code",
      "execution_count": null,
      "metadata": {
        "id": "6YGpfFk7I5Ya"
      },
      "outputs": [],
      "source": [
        "!mkdir out"
      ]
    },
    {
      "cell_type": "code",
      "execution_count": null,
      "metadata": {
        "colab": {
          "base_uri": "https://localhost:8080/"
        },
        "id": "d4gUZTI5HPTb",
        "outputId": "a1e3c127-f3bc-4ed1-9785-fc499872a529"
      },
      "outputs": [
        {
          "name": "stdout",
          "output_type": "stream",
          "text": [
            "\n",
            "#######################################################################\n",
            "Please cite the following paper when using nnU-Net:\n",
            "Isensee, F., Jaeger, P. F., Kohl, S. A., Petersen, J., & Maier-Hein, K. H. (2021). nnU-Net: a self-configuring method for deep learning-based biomedical image segmentation. Nature methods, 18(2), 203-211.\n",
            "#######################################################################\n",
            "\n",
            "There are 4 cases in the source folder\n",
            "I am process 0 out of 1 (max process ID is 0, we start counting with 0!)\n",
            "There are 4 cases that I would like to predict\n",
            "using pin_memory on device 0\n",
            "\n",
            "Predicting Bản sao của 1:\n",
            "perform_everything_on_gpu: True\n",
            "Prediction done, transferring to CPU if needed\n",
            "sending off prediction to background worker for resampling and export\n",
            "done with Bản sao của 1\n",
            "\n",
            "Predicting Bản sao của 2:\n",
            "perform_everything_on_gpu: True\n",
            "Prediction done, transferring to CPU if needed\n",
            "sending off prediction to background worker for resampling and export\n",
            "done with Bản sao của 2\n",
            "\n",
            "Predicting Bản sao của 3:\n",
            "perform_everything_on_gpu: True\n",
            "Prediction done, transferring to CPU if needed\n",
            "sending off prediction to background worker for resampling and export\n",
            "done with Bản sao của 3\n",
            "\n",
            "Predicting Bản sao của 5:\n",
            "perform_everything_on_gpu: True\n",
            "Prediction done, transferring to CPU if needed\n",
            "sending off prediction to background worker for resampling and export\n",
            "done with Bản sao của 5\n"
          ]
        }
      ],
      "source": [
        "! nnUNetv2_predict -d Dataset001_Liver -i drive/MyDrive/INPUTS -o out -f  0 1 2 3 4 -tr nnUNetTrainer -c 2d -p nnUNetPlans"
      ]
    },
    {
      "cell_type": "code",
      "execution_count": null,
      "metadata": {
        "id": "DZ4YyvGnJUjc"
      },
      "outputs": [],
      "source": [
        "!mkdir out_pp"
      ]
    },
    {
      "cell_type": "code",
      "execution_count": null,
      "metadata": {
        "id": "sQ5u0L7BI-Om"
      },
      "outputs": [],
      "source": [
        "! nnUNetv2_apply_postprocessing -i out -o out_pp -pp_pkl_file /content/Dataset001_Liver/nnUNetTrainer__nnUNetPlans__2d/crossval_results_folds_0_1_2_3_4/postprocessing.pkl -np 8 -plans_json /content/Dataset001_Liver/nnUNetTrainer__nnUNetPlans__2d/crossval_results_folds_0_1_2_3_4/plans.json"
      ]
    },
    {
      "cell_type": "code",
      "execution_count": null,
      "metadata": {
        "id": "FKnRGyydJspy"
      },
      "outputs": [],
      "source": [
        "! cp -R out_pp drive/MyDrive/"
      ]
    }
  ],
  "metadata": {
    "accelerator": "GPU",
    "colab": {
      "collapsed_sections": [
        "fZdwQTzUmwkM",
        "o-5PpfhMrAO7"
      ],
      "provenance": [],
      "toc_visible": true,
      "gpuType": "T4"
    },
    "kernelspec": {
      "display_name": "Python 3",
      "name": "python3"
    },
    "language_info": {
      "name": "python"
    }
  },
  "nbformat": 4,
  "nbformat_minor": 0
}