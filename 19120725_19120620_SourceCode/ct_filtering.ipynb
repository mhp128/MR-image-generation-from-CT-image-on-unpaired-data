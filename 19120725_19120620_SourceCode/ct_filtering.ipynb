{
 "cells": [
  {
   "cell_type": "code",
   "execution_count": 1,
   "id": "9792012d-9b0d-46d5-a46c-73bbbaf3de8f",
   "metadata": {},
   "outputs": [],
   "source": [
    "import os"
   ]
  },
  {
   "cell_type": "code",
   "execution_count": 2,
   "id": "ad798c1a-4c1a-4cf5-88c1-3a921d9ee914",
   "metadata": {},
   "outputs": [],
   "source": [
    "def del_img(array, patient_number):\n",
    "    for i in array:\n",
    "        if len(str(i)) == 1:\n",
    "            os.remove(f'train/ct/{patient_number}/DICOM_anon/i000{i},0000b.dcm')\n",
    "            os.remove(f'train/ct/{patient_number}/Ground/liver_GT_00{i}.png')\n",
    "        if len(str(i)) == 2:\n",
    "            os.remove(f'train/ct/{patient_number}/DICOM_anon/i00{i},0000b.dcm')\n",
    "            os.remove(f'train/ct/{patient_number}/Ground/liver_GT_0{i}.png')\n",
    "        if len(str(i)) == 3:\n",
    "            os.remove(f'train/ct/{patient_number}/DICOM_anon/i0{i},0000b.dcm')\n",
    "            os.remove(f'train/ct/{patient_number}/Ground/liver_GT_{i}.png')\n",
    "        \n",
    "    print(f\"Ground {patient_number}: {len(os.listdir(f'train/ct/{patient_number}/Ground/'))} \\n\\\n",
    "Dicom {patient_number}: {len(os.listdir(f'train/ct/{patient_number}/Ground/'))}\")\n",
    "    \n",
    "def del_img_v2(array, patient_number, j):\n",
    "    for i in array:\n",
    "        if len(str(i)) == 1:\n",
    "            os.remove(f'train/ct/{patient_number}/Ground/liver_GT_00{i}.png')\n",
    "        if len(str(i+1)) == 1:\n",
    "            os.remove(f'train/ct/{patient_number}/DICOM_anon/IMG-00{j}-0000{i+1}.dcm')\n",
    "            \n",
    "        if len(str(i)) == 2:\n",
    "            os.remove(f'train/ct/{patient_number}/Ground/liver_GT_0{i}.png')\n",
    "        if len(str(i+1)) == 2:\n",
    "            os.remove(f'train/ct/{patient_number}/DICOM_anon/IMG-00{j}-000{i+1}.dcm')\n",
    "            \n",
    "        if len(str(i)) == 3:\n",
    "            os.remove(f'train/ct/{patient_number}/Ground/liver_GT_{i}.png')\n",
    "        if len(str(i+1)) == 3:\n",
    "            os.remove(f'train/ct/{patient_number}/DICOM_anon/IMG-00{j}-00{i+1}.dcm')\n",
    "            \n",
    "    print(f\"Ground {patient_number}: {len(os.listdir(f'train/ct/{patient_number}/Ground/'))} \\n\\\n",
    "Dicom {patient_number}: {len(os.listdir(f'train/ct/{patient_number}/Ground/'))}\")    \n",
    "    \n",
    "def print_file(patient_number):\n",
    "    for i in range(len(os.listdir(f'train/ct/{patient_number}/Ground/'))):\n",
    "        print(os.listdir(f'train/ct/{patient_number}/Ground/')[i], '\\t', os.listdir(f'train/ct/{patient_number}/DICOM_anon/')[i])"
   ]
  },
  {
   "cell_type": "code",
   "execution_count": 23,
   "id": "c44f6f69-afd7-4633-a812-f0fd52fa08fd",
   "metadata": {
    "tags": []
   },
   "outputs": [
    {
     "name": "stdout",
     "output_type": "stream",
     "text": [
      "Ground 1: 34 \n",
      "Dicom 1: 34\n"
     ]
    }
   ],
   "source": [
    "delete_1_continue = [3,8,\n",
    "                     22,29,31,\n",
    "                     36,41,42,43,46,48,\n",
    "                     56,58,64,70,\n",
    "                     77,78,79,84,85,88,89,92]\n",
    "del_img(delete_1_continue, 1)\n",
    "\n",
    "delete_8 = [0,1,2,3,4,24,25,26,28,30,38,39,40,42,46,47,51,52,56,57,59,60,62,63,65,67,68,70,71,72,74,75,76,\n",
    "            78,79,80,81,82,83,84,86,87,\n",
    "            89,90,91,93,94,95,\n",
    "            100,101,102,103,104,105,106,107,\n",
    "            110,111,112,113,114,115,116,117,118,119,120]\n",
    "\n",
    "del_img(delete_8, 8)\n",
    "\n",
    "delete_8 = [5,6,7,\n",
    "            19,32,34,35,\n",
    "            44,48,49,50]\n",
    "\n",
    "del_img(delete_8, 8)"
   ]
  },
  {
   "cell_type": "code",
   "execution_count": 79,
   "id": "90346bbc-71a0-4aa0-b997-8c34c01e9f51",
   "metadata": {
    "collapsed": true,
    "jupyter": {
     "outputs_hidden": true
    },
    "tags": []
   },
   "outputs": [
    {
     "ename": "FileNotFoundError",
     "evalue": "[WinError 2] The system cannot find the file specified: 'train/ct/5/DICOM_anon/i0002,0000b.dcm'",
     "output_type": "error",
     "traceback": [
      "\u001b[1;31m---------------------------------------------------------------------------\u001b[0m",
      "\u001b[1;31mFileNotFoundError\u001b[0m                         Traceback (most recent call last)",
      "Cell \u001b[1;32mIn[79], line 13\u001b[0m\n\u001b[0;32m      1\u001b[0m delete_5 \u001b[38;5;241m=\u001b[39m [\u001b[38;5;241m2\u001b[39m,\u001b[38;5;241m3\u001b[39m,\u001b[38;5;241m4\u001b[39m,\u001b[38;5;241m6\u001b[39m,\u001b[38;5;241m7\u001b[39m,\n\u001b[0;32m      2\u001b[0m             \u001b[38;5;241m9\u001b[39m,\u001b[38;5;241m10\u001b[39m,\u001b[38;5;241m12\u001b[39m,\u001b[38;5;241m13\u001b[39m,\n\u001b[0;32m      3\u001b[0m             \u001b[38;5;241m17\u001b[39m,\u001b[38;5;241m20\u001b[39m,\u001b[38;5;241m21\u001b[39m,\u001b[38;5;241m22\u001b[39m,\u001b[38;5;241m23\u001b[39m,\n\u001b[1;32m   (...)\u001b[0m\n\u001b[0;32m     11\u001b[0m             \u001b[38;5;241m81\u001b[39m,\u001b[38;5;241m82\u001b[39m,\u001b[38;5;241m83\u001b[39m,\u001b[38;5;241m84\u001b[39m,\u001b[38;5;241m86\u001b[39m,\u001b[38;5;241m87\u001b[39m,\n\u001b[0;32m     12\u001b[0m             \u001b[38;5;241m90\u001b[39m,\u001b[38;5;241m92\u001b[39m,\u001b[38;5;241m93\u001b[39m,\u001b[38;5;241m34\u001b[39m]\n\u001b[1;32m---> 13\u001b[0m \u001b[43mdel_img\u001b[49m\u001b[43m(\u001b[49m\u001b[43mdelete_5\u001b[49m\u001b[43m,\u001b[49m\u001b[43m \u001b[49m\u001b[38;5;241;43m5\u001b[39;49m\u001b[43m)\u001b[49m\n",
      "Cell \u001b[1;32mIn[75], line 4\u001b[0m, in \u001b[0;36mdel_img\u001b[1;34m(array, patient_number)\u001b[0m\n\u001b[0;32m      2\u001b[0m \u001b[38;5;28;01mfor\u001b[39;00m i \u001b[38;5;129;01min\u001b[39;00m array:\n\u001b[0;32m      3\u001b[0m     \u001b[38;5;28;01mif\u001b[39;00m \u001b[38;5;28mlen\u001b[39m(\u001b[38;5;28mstr\u001b[39m(i)) \u001b[38;5;241m==\u001b[39m \u001b[38;5;241m1\u001b[39m:\n\u001b[1;32m----> 4\u001b[0m         \u001b[43mos\u001b[49m\u001b[38;5;241;43m.\u001b[39;49m\u001b[43mremove\u001b[49m\u001b[43m(\u001b[49m\u001b[38;5;124;43mf\u001b[39;49m\u001b[38;5;124;43m'\u001b[39;49m\u001b[38;5;124;43mtrain/ct/\u001b[39;49m\u001b[38;5;132;43;01m{\u001b[39;49;00m\u001b[43mpatient_number\u001b[49m\u001b[38;5;132;43;01m}\u001b[39;49;00m\u001b[38;5;124;43m/DICOM_anon/i000\u001b[39;49m\u001b[38;5;132;43;01m{\u001b[39;49;00m\u001b[43mi\u001b[49m\u001b[38;5;132;43;01m}\u001b[39;49;00m\u001b[38;5;124;43m,0000b.dcm\u001b[39;49m\u001b[38;5;124;43m'\u001b[39;49m\u001b[43m)\u001b[49m\n\u001b[0;32m      5\u001b[0m         os\u001b[38;5;241m.\u001b[39mremove(\u001b[38;5;124mf\u001b[39m\u001b[38;5;124m'\u001b[39m\u001b[38;5;124mtrain/ct/\u001b[39m\u001b[38;5;132;01m{\u001b[39;00mpatient_number\u001b[38;5;132;01m}\u001b[39;00m\u001b[38;5;124m/Ground/liver_GT_00\u001b[39m\u001b[38;5;132;01m{\u001b[39;00mi\u001b[38;5;132;01m}\u001b[39;00m\u001b[38;5;124m.png\u001b[39m\u001b[38;5;124m'\u001b[39m)\n\u001b[0;32m      6\u001b[0m     \u001b[38;5;28;01mif\u001b[39;00m \u001b[38;5;28mlen\u001b[39m(\u001b[38;5;28mstr\u001b[39m(i)) \u001b[38;5;241m==\u001b[39m \u001b[38;5;241m2\u001b[39m:\n",
      "\u001b[1;31mFileNotFoundError\u001b[0m: [WinError 2] The system cannot find the file specified: 'train/ct/5/DICOM_anon/i0002,0000b.dcm'"
     ]
    }
   ],
   "source": [
    "delete_5 = [2,3,4,6,7,\n",
    "            9,10,12,13,\n",
    "            17,20,21,22,23,\n",
    "            25,26,27,28,29,30,31,\n",
    "            33,34,35,36,37,38,39,\n",
    "            41,42,43,44,45,46,\n",
    "            48,49,52,53,54,55,\n",
    "            56,57,58,59,60,61,62,63,\n",
    "            65,66,68,69,70,71,\n",
    "            73,74,75,76,78,79,\n",
    "            81,82,83,84,86,87,\n",
    "            90,92,93,34]\n",
    "del_img(delete_5, 5)\n",
    "\n",
    "delete_5_continue = [10,11,12,\n",
    "                     17,18,19,22,23,\n",
    "                     27,28,29,30,31,\n",
    "                     33,34,35,36,37,39,\n",
    "                     41,42,43,44,45,46,47,\n",
    "                     50,52,53,54,55,\n",
    "                     57,58,59,61,62,63,\n",
    "                     65,66,67,68,69,70,\n",
    "                     74,75,76,77,79,\n",
    "                     80,81,82,83,84,91,94]\n",
    "del_img(delete_5_continue, 5)"
   ]
  },
  {
   "cell_type": "code",
   "execution_count": 4,
   "id": "3fa0b055-8276-4723-9582-920b291bd317",
   "metadata": {
    "collapsed": true,
    "jupyter": {
     "outputs_hidden": true
    },
    "tags": []
   },
   "outputs": [
    {
     "ename": "NameError",
     "evalue": "name 'patient' is not defined",
     "output_type": "error",
     "traceback": [
      "\u001b[1;31m---------------------------------------------------------------------------\u001b[0m",
      "\u001b[1;31mNameError\u001b[0m                                 Traceback (most recent call last)",
      "Cell \u001b[1;32mIn[4], line 9\u001b[0m\n\u001b[0;32m      1\u001b[0m delete_6 \u001b[38;5;241m=\u001b[39m [\u001b[38;5;241m3\u001b[39m,\u001b[38;5;241m4\u001b[39m,\u001b[38;5;241m5\u001b[39m,\u001b[38;5;241m10\u001b[39m,\n\u001b[0;32m      2\u001b[0m             \u001b[38;5;241m13\u001b[39m,\u001b[38;5;241m16\u001b[39m,\u001b[38;5;241m18\u001b[39m,\u001b[38;5;241m20\u001b[39m,\n\u001b[0;32m      3\u001b[0m             \u001b[38;5;241m23\u001b[39m,\u001b[38;5;241m25\u001b[39m,\u001b[38;5;241m27\u001b[39m,\u001b[38;5;241m29\u001b[39m,\u001b[38;5;241m31\u001b[39m,\n\u001b[1;32m   (...)\u001b[0m\n\u001b[0;32m      7\u001b[0m             \u001b[38;5;241m67\u001b[39m,\u001b[38;5;241m68\u001b[39m,\u001b[38;5;241m69\u001b[39m,\u001b[38;5;241m70\u001b[39m,\u001b[38;5;241m71\u001b[39m,\u001b[38;5;241m72\u001b[39m,\u001b[38;5;241m75\u001b[39m,\u001b[38;5;241m76\u001b[39m,\n\u001b[0;32m      8\u001b[0m             \u001b[38;5;241m78\u001b[39m,\u001b[38;5;241m79\u001b[39m,\u001b[38;5;241m81\u001b[39m,\u001b[38;5;241m82\u001b[39m,\u001b[38;5;241m84\u001b[39m,\u001b[38;5;241m85\u001b[39m,\u001b[38;5;241m86\u001b[39m,\u001b[38;5;241m87\u001b[39m]\n\u001b[1;32m----> 9\u001b[0m \u001b[43mdel_img\u001b[49m\u001b[43m(\u001b[49m\u001b[43mdelete_6\u001b[49m\u001b[43m,\u001b[49m\u001b[43m \u001b[49m\u001b[38;5;241;43m6\u001b[39;49m\u001b[43m)\u001b[49m\n",
      "Cell \u001b[1;32mIn[3], line 13\u001b[0m, in \u001b[0;36mdel_img\u001b[1;34m(array, patient_number)\u001b[0m\n\u001b[0;32m     10\u001b[0m             os\u001b[38;5;241m.\u001b[39mremove(\u001b[38;5;124mf\u001b[39m\u001b[38;5;124m'\u001b[39m\u001b[38;5;124mtrain/ct/\u001b[39m\u001b[38;5;132;01m{\u001b[39;00mpatient_number\u001b[38;5;132;01m}\u001b[39;00m\u001b[38;5;124m/DICOM_anon/i0\u001b[39m\u001b[38;5;132;01m{\u001b[39;00mi\u001b[38;5;132;01m}\u001b[39;00m\u001b[38;5;124m,0000b.dcm\u001b[39m\u001b[38;5;124m'\u001b[39m)\n\u001b[0;32m     11\u001b[0m             os\u001b[38;5;241m.\u001b[39mremove(\u001b[38;5;124mf\u001b[39m\u001b[38;5;124m'\u001b[39m\u001b[38;5;124mtrain/ct/\u001b[39m\u001b[38;5;132;01m{\u001b[39;00mpatient_number\u001b[38;5;132;01m}\u001b[39;00m\u001b[38;5;124m/Ground/liver_GT_\u001b[39m\u001b[38;5;132;01m{\u001b[39;00mi\u001b[38;5;132;01m}\u001b[39;00m\u001b[38;5;124m.png\u001b[39m\u001b[38;5;124m'\u001b[39m)\n\u001b[1;32m---> 13\u001b[0m     \u001b[38;5;28mprint\u001b[39m(\u001b[38;5;124mf\u001b[39m\u001b[38;5;124m\"\u001b[39m\u001b[38;5;124mGround \u001b[39m\u001b[38;5;132;01m{\u001b[39;00mpatient\u001b[38;5;132;01m}\u001b[39;00m\u001b[38;5;124m: \u001b[39m\u001b[38;5;132;01m{\u001b[39;00m\u001b[38;5;28mlen\u001b[39m(os\u001b[38;5;241m.\u001b[39mlistdir(\u001b[38;5;124mf\u001b[39m\u001b[38;5;124m'\u001b[39m\u001b[38;5;124mtrain/ct/\u001b[39m\u001b[38;5;132;01m{\u001b[39;00mpatient_number\u001b[38;5;132;01m}\u001b[39;00m\u001b[38;5;124m/Ground/\u001b[39m\u001b[38;5;124m'\u001b[39m))\u001b[38;5;132;01m}\u001b[39;00m\u001b[38;5;124m \u001b[39m\u001b[38;5;130;01m\\n\u001b[39;00m\u001b[38;5;130;01m\\\u001b[39;00m\n\u001b[0;32m     14\u001b[0m \u001b[38;5;124mDicom \u001b[39m\u001b[38;5;132;01m{\u001b[39;00mpatient\u001b[38;5;132;01m}\u001b[39;00m\u001b[38;5;124m: \u001b[39m\u001b[38;5;132;01m{\u001b[39;00m\u001b[38;5;28mlen\u001b[39m(os\u001b[38;5;241m.\u001b[39mlistdir(\u001b[38;5;124mf\u001b[39m\u001b[38;5;124m'\u001b[39m\u001b[38;5;124mtrain/ct/\u001b[39m\u001b[38;5;132;01m{\u001b[39;00mpatient_number\u001b[38;5;132;01m}\u001b[39;00m\u001b[38;5;124m/Ground/\u001b[39m\u001b[38;5;124m'\u001b[39m))\u001b[38;5;132;01m}\u001b[39;00m\u001b[38;5;124m\"\u001b[39m)\n",
      "\u001b[1;31mNameError\u001b[0m: name 'patient' is not defined"
     ]
    }
   ],
   "source": [
    "delete_6 = [3,4,5,10,\n",
    "            13,16,18,20,\n",
    "            23,25,27,29,31,\n",
    "            34,36,38,39,40,41,42,43,\n",
    "            44,45,46,48,49,50,51,54,\n",
    "            55,56,57,59,61,63,64,\n",
    "            67,68,69,70,71,72,75,76,\n",
    "            78,79,81,82,84,85,86,87]\n",
    "del_img(delete_6, 6)"
   ]
  },
  {
   "cell_type": "code",
   "execution_count": 8,
   "id": "a7b279cc-fc56-4073-ab18-254b75b032b8",
   "metadata": {
    "collapsed": true,
    "jupyter": {
     "outputs_hidden": true
    },
    "tags": []
   },
   "outputs": [
    {
     "ename": "FileNotFoundError",
     "evalue": "[WinError 2] The system cannot find the file specified: 'train/ct/14/DICOM_anon/i0005,0000b.dcm'",
     "output_type": "error",
     "traceback": [
      "\u001b[1;31m---------------------------------------------------------------------------\u001b[0m",
      "\u001b[1;31mFileNotFoundError\u001b[0m                         Traceback (most recent call last)",
      "Cell \u001b[1;32mIn[8], line 11\u001b[0m\n\u001b[0;32m      1\u001b[0m delete_14 \u001b[38;5;241m=\u001b[39m [\u001b[38;5;241m5\u001b[39m,\n\u001b[0;32m      2\u001b[0m             \u001b[38;5;241m12\u001b[39m,\u001b[38;5;241m13\u001b[39m,\u001b[38;5;241m15\u001b[39m,\u001b[38;5;241m16\u001b[39m,\u001b[38;5;241m17\u001b[39m,\u001b[38;5;241m18\u001b[39m,\u001b[38;5;241m19\u001b[39m,\u001b[38;5;241m20\u001b[39m,\u001b[38;5;241m21\u001b[39m,\n\u001b[0;32m      3\u001b[0m             \u001b[38;5;241m22\u001b[39m,\u001b[38;5;241m23\u001b[39m,\u001b[38;5;241m24\u001b[39m,\u001b[38;5;241m27\u001b[39m,\u001b[38;5;241m28\u001b[39m,\u001b[38;5;241m29\u001b[39m,\u001b[38;5;241m30\u001b[39m,\u001b[38;5;241m31\u001b[39m,\u001b[38;5;241m32\u001b[39m,\n\u001b[1;32m   (...)\u001b[0m\n\u001b[0;32m      8\u001b[0m             \u001b[38;5;241m77\u001b[39m,\u001b[38;5;241m78\u001b[39m,\u001b[38;5;241m81\u001b[39m,\u001b[38;5;241m82\u001b[39m,\u001b[38;5;241m83\u001b[39m,\u001b[38;5;241m84\u001b[39m,\u001b[38;5;241m85\u001b[39m,\u001b[38;5;241m86\u001b[39m,\n\u001b[0;32m      9\u001b[0m             \u001b[38;5;241m89\u001b[39m,\u001b[38;5;241m90\u001b[39m,\u001b[38;5;241m91\u001b[39m,\u001b[38;5;241m92\u001b[39m]\n\u001b[1;32m---> 11\u001b[0m \u001b[43mdel_img\u001b[49m\u001b[43m(\u001b[49m\u001b[43mdelete_14\u001b[49m\u001b[43m,\u001b[49m\u001b[43m \u001b[49m\u001b[38;5;241;43m14\u001b[39;49m\u001b[43m)\u001b[49m\n",
      "Cell \u001b[1;32mIn[5], line 4\u001b[0m, in \u001b[0;36mdel_img\u001b[1;34m(array, patient_number)\u001b[0m\n\u001b[0;32m      2\u001b[0m \u001b[38;5;28;01mfor\u001b[39;00m i \u001b[38;5;129;01min\u001b[39;00m array:\n\u001b[0;32m      3\u001b[0m     \u001b[38;5;28;01mif\u001b[39;00m \u001b[38;5;28mlen\u001b[39m(\u001b[38;5;28mstr\u001b[39m(i)) \u001b[38;5;241m==\u001b[39m \u001b[38;5;241m1\u001b[39m:\n\u001b[1;32m----> 4\u001b[0m         \u001b[43mos\u001b[49m\u001b[38;5;241;43m.\u001b[39;49m\u001b[43mremove\u001b[49m\u001b[43m(\u001b[49m\u001b[38;5;124;43mf\u001b[39;49m\u001b[38;5;124;43m'\u001b[39;49m\u001b[38;5;124;43mtrain/ct/\u001b[39;49m\u001b[38;5;132;43;01m{\u001b[39;49;00m\u001b[43mpatient_number\u001b[49m\u001b[38;5;132;43;01m}\u001b[39;49;00m\u001b[38;5;124;43m/DICOM_anon/i000\u001b[39;49m\u001b[38;5;132;43;01m{\u001b[39;49;00m\u001b[43mi\u001b[49m\u001b[38;5;132;43;01m}\u001b[39;49;00m\u001b[38;5;124;43m,0000b.dcm\u001b[39;49m\u001b[38;5;124;43m'\u001b[39;49m\u001b[43m)\u001b[49m\n\u001b[0;32m      5\u001b[0m         os\u001b[38;5;241m.\u001b[39mremove(\u001b[38;5;124mf\u001b[39m\u001b[38;5;124m'\u001b[39m\u001b[38;5;124mtrain/ct/\u001b[39m\u001b[38;5;132;01m{\u001b[39;00mpatient_number\u001b[38;5;132;01m}\u001b[39;00m\u001b[38;5;124m/Ground/liver_GT_00\u001b[39m\u001b[38;5;132;01m{\u001b[39;00mi\u001b[38;5;132;01m}\u001b[39;00m\u001b[38;5;124m.png\u001b[39m\u001b[38;5;124m'\u001b[39m)\n\u001b[0;32m      6\u001b[0m     \u001b[38;5;28;01mif\u001b[39;00m \u001b[38;5;28mlen\u001b[39m(\u001b[38;5;28mstr\u001b[39m(i)) \u001b[38;5;241m==\u001b[39m \u001b[38;5;241m2\u001b[39m:\n",
      "\u001b[1;31mFileNotFoundError\u001b[0m: [WinError 2] The system cannot find the file specified: 'train/ct/14/DICOM_anon/i0005,0000b.dcm'"
     ]
    }
   ],
   "source": [
    "delete_14 = [5,\n",
    "            12,13,15,16,17,18,19,20,21,\n",
    "            22,23,24,27,28,29,30,31,32,\n",
    "            34,35,37,40,41,42,43,\n",
    "            44,45,46,48,49,50,52,53,\n",
    "            56,57,59,60,62,65,\n",
    "            66,67,68,73,74,75,76,\n",
    "            77,78,81,82,83,84,85,86,\n",
    "            89,90,91,92]\n",
    "    \n",
    "del_img(delete_14, 14)\n",
    "\n",
    "delete_14_continue = [28,29,30,31,32,33,34,35,\n",
    "                      36,39,40,41,42,43,45,46,\n",
    "                      48,49,50,52,53,54,55,56,\n",
    "                      58,59,62,63,64,65,66,67,\n",
    "                      69,70,72,73,74,76,77,78,79,\n",
    "                      81,82,83,84,85,87,88,89,90,\n",
    "                      92,93,94]\n",
    "    \n",
    "del_img(delete_14_continue, 14)"
   ]
  },
  {
   "cell_type": "code",
   "execution_count": 9,
   "id": "e8fa0379-96a9-4077-8754-a16955fe6135",
   "metadata": {},
   "outputs": [
    {
     "name": "stdout",
     "output_type": "stream",
     "text": [
      "Ground 16: 34 \n",
      "Dicom 16: 34\n"
     ]
    }
   ],
   "source": [
    "delete_16 = [4,6,9,10,\n",
    "             13,14,16,17,19,21,\n",
    "             22,23,24,25,26,27,29,30,31,\n",
    "             34,35,36,37,39,40,41,\n",
    "             45,46,47,51,52,53,\n",
    "             56,57,58,61,62,63,64,65,\n",
    "             66,67,68,69,71,72,73,75,76,\n",
    "             78,80,81,84,85,87,88,89]\n",
    "del_img(delete_16, 16)"
   ]
  },
  {
   "cell_type": "code",
   "execution_count": 10,
   "id": "55ab0711-2f0c-414c-9eb1-f9ca370ec004",
   "metadata": {},
   "outputs": [
    {
     "name": "stdout",
     "output_type": "stream",
     "text": [
      "Ground 18: 38 \n",
      "Dicom 18: 38\n"
     ]
    }
   ],
   "source": [
    "delete_18 = [3,4,\n",
    "             11,13,14,16,17,18,19,20,\n",
    "             23,24,25,27,28,29,30,31,32,\n",
    "             34,35,36,37,38,39,41,42,43,\n",
    "             45,46,47,48,51,54,\n",
    "             58,59,60,61,62,63,65,\n",
    "             67,68,69,70,71,72,73,74,\n",
    "             77,80,81,82,84,85,86,87,\n",
    "             89,90,91,92,93,94,96,97,\n",
    "             100,101,102,104,105,106,108,109]\n",
    "\n",
    "del_img(delete_18, 18)"
   ]
  },
  {
   "cell_type": "code",
   "execution_count": 11,
   "id": "a25090d4-f429-4f5b-9ae8-86ad75c9ddcd",
   "metadata": {},
   "outputs": [
    {
     "name": "stdout",
     "output_type": "stream",
     "text": [
      "Ground 19: 28 \n",
      "Dicom 19: 28\n"
     ]
    }
   ],
   "source": [
    "delete_19 = [7,8,\n",
    "             11,12,14,15,16,18,19,20,\n",
    "             23,25,26,27,29,30,31,32,\n",
    "             34,35,36,37,38,40,41,42,43,\n",
    "             45,46,47,48,49,50,52,53,54,\n",
    "             56,57,58,59,60,62,63,65,67,68,69,70,71,73,75,76,\n",
    "             78,79,80,81,82,83,84,85,86,88]\n",
    "\n",
    "del_img(delete_19, 19)"
   ]
  },
  {
   "cell_type": "code",
   "execution_count": 42,
   "id": "2e1c6f49-5864-45c0-b015-ea080943303b",
   "metadata": {},
   "outputs": [
    {
     "data": {
      "text/plain": [
       "(49, 49)"
      ]
     },
     "execution_count": 42,
     "metadata": {},
     "output_type": "execute_result"
    }
   ],
   "source": [
    "len(os.listdir('train/ct/22/DICOM_anon/')), len(os.listdir('train/ct/22/Ground//'))"
   ]
  },
  {
   "cell_type": "code",
   "execution_count": 37,
   "id": "fa467fe0-cdb7-459c-a85f-c326fe73a868",
   "metadata": {
    "collapsed": true,
    "jupyter": {
     "outputs_hidden": true
    },
    "tags": []
   },
   "outputs": [
    {
     "ename": "FileNotFoundError",
     "evalue": "[WinError 2] The system cannot find the file specified: 'train/ct/22/DICOM_anon/IMG-0005-000100.dcm'",
     "output_type": "error",
     "traceback": [
      "\u001b[1;31m---------------------------------------------------------------------------\u001b[0m",
      "\u001b[1;31mFileNotFoundError\u001b[0m                         Traceback (most recent call last)",
      "Cell \u001b[1;32mIn[37], line 11\u001b[0m\n\u001b[0;32m      1\u001b[0m delete_22 \u001b[38;5;241m=\u001b[39m [\u001b[38;5;241m2\u001b[39m,\n\u001b[0;32m      2\u001b[0m              \u001b[38;5;241m15\u001b[39m,\u001b[38;5;241m16\u001b[39m,\u001b[38;5;241m17\u001b[39m,\u001b[38;5;241m19\u001b[39m,\n\u001b[0;32m      3\u001b[0m              \u001b[38;5;241m23\u001b[39m,\u001b[38;5;241m24\u001b[39m,\u001b[38;5;241m25\u001b[39m,\u001b[38;5;241m26\u001b[39m,\u001b[38;5;241m27\u001b[39m,\u001b[38;5;241m28\u001b[39m,\u001b[38;5;241m30\u001b[39m,\u001b[38;5;241m31\u001b[39m,\u001b[38;5;241m32\u001b[39m,\n\u001b[1;32m   (...)\u001b[0m\n\u001b[0;32m      8\u001b[0m              \u001b[38;5;241m78\u001b[39m,\u001b[38;5;241m79\u001b[39m,\u001b[38;5;241m80\u001b[39m,\u001b[38;5;241m82\u001b[39m,\u001b[38;5;241m83\u001b[39m,\u001b[38;5;241m84\u001b[39m,\u001b[38;5;241m85\u001b[39m,\n\u001b[0;32m      9\u001b[0m              \u001b[38;5;241m89\u001b[39m,\u001b[38;5;241m90\u001b[39m,\u001b[38;5;241m91\u001b[39m,\u001b[38;5;241m92\u001b[39m,\u001b[38;5;241m94\u001b[39m,\u001b[38;5;241m95\u001b[39m,\u001b[38;5;241m96\u001b[39m,\u001b[38;5;241m97\u001b[39m,\u001b[38;5;241m99\u001b[39m]\n\u001b[1;32m---> 11\u001b[0m \u001b[43mdel_img_v2\u001b[49m\u001b[43m(\u001b[49m\u001b[43mdelete_22\u001b[49m\u001b[43m,\u001b[49m\u001b[43m \u001b[49m\u001b[38;5;241;43m22\u001b[39;49m\u001b[43m)\u001b[49m\n",
      "Cell \u001b[1;32mIn[36], line 22\u001b[0m, in \u001b[0;36mdel_img_v2\u001b[1;34m(array, patient_number)\u001b[0m\n\u001b[0;32m     20\u001b[0m     os\u001b[38;5;241m.\u001b[39mremove(\u001b[38;5;124mf\u001b[39m\u001b[38;5;124m'\u001b[39m\u001b[38;5;124mtrain/ct/\u001b[39m\u001b[38;5;132;01m{\u001b[39;00mpatient_number\u001b[38;5;132;01m}\u001b[39;00m\u001b[38;5;124m/Ground/liver_GT_00\u001b[39m\u001b[38;5;132;01m{\u001b[39;00mi\u001b[38;5;132;01m}\u001b[39;00m\u001b[38;5;124m.png\u001b[39m\u001b[38;5;124m'\u001b[39m)\n\u001b[0;32m     21\u001b[0m \u001b[38;5;28;01mif\u001b[39;00m \u001b[38;5;28mlen\u001b[39m(\u001b[38;5;28mstr\u001b[39m(i)) \u001b[38;5;241m==\u001b[39m \u001b[38;5;241m2\u001b[39m:\n\u001b[1;32m---> 22\u001b[0m     \u001b[43mos\u001b[49m\u001b[38;5;241;43m.\u001b[39;49m\u001b[43mremove\u001b[49m\u001b[43m(\u001b[49m\u001b[38;5;124;43mf\u001b[39;49m\u001b[38;5;124;43m'\u001b[39;49m\u001b[38;5;124;43mtrain/ct/\u001b[39;49m\u001b[38;5;132;43;01m{\u001b[39;49;00m\u001b[43mpatient_number\u001b[49m\u001b[38;5;132;43;01m}\u001b[39;49;00m\u001b[38;5;124;43m/DICOM_anon/IMG-0005-000\u001b[39;49m\u001b[38;5;132;43;01m{\u001b[39;49;00m\u001b[43mi\u001b[49m\u001b[38;5;241;43m+\u001b[39;49m\u001b[38;5;241;43m1\u001b[39;49m\u001b[38;5;132;43;01m}\u001b[39;49;00m\u001b[38;5;124;43m.dcm\u001b[39;49m\u001b[38;5;124;43m'\u001b[39;49m\u001b[43m)\u001b[49m\n\u001b[0;32m     23\u001b[0m     os\u001b[38;5;241m.\u001b[39mremove(\u001b[38;5;124mf\u001b[39m\u001b[38;5;124m'\u001b[39m\u001b[38;5;124mtrain/ct/\u001b[39m\u001b[38;5;132;01m{\u001b[39;00mpatient_number\u001b[38;5;132;01m}\u001b[39;00m\u001b[38;5;124m/Ground/liver_GT_0\u001b[39m\u001b[38;5;132;01m{\u001b[39;00mi\u001b[38;5;132;01m}\u001b[39;00m\u001b[38;5;124m.png\u001b[39m\u001b[38;5;124m'\u001b[39m)\n\u001b[0;32m     24\u001b[0m \u001b[38;5;28;01mif\u001b[39;00m \u001b[38;5;28mlen\u001b[39m(\u001b[38;5;28mstr\u001b[39m(i)) \u001b[38;5;241m==\u001b[39m \u001b[38;5;241m3\u001b[39m:\n",
      "\u001b[1;31mFileNotFoundError\u001b[0m: [WinError 2] The system cannot find the file specified: 'train/ct/22/DICOM_anon/IMG-0005-000100.dcm'"
     ]
    }
   ],
   "source": [
    "delete_22 = [2,\n",
    "             15,16,17,19,\n",
    "             23,24,25,26,27,28,30,31,32,\n",
    "             34,35,36,38,43,\n",
    "             47,48,52,53,\n",
    "             56,57,60,61,63,64,\n",
    "             66,68,69,70,71,73,74,75,\n",
    "             78,79,80,82,83,84,85,\n",
    "             89,90,91,92,94,95,96,97]\n",
    "\n",
    "del_img_v2(delete_22, 22)\n",
    "\n",
    "delete_22_continue = [6,9,10,\n",
    "                      13,14,21,22,29,39,\n",
    "                      40,42,49,50,54,55,\n",
    "                      59,72,77,86,98]\n",
    "\n",
    "del_img_v2(delete_22_continue, 22, 5)"
   ]
  },
  {
   "cell_type": "code",
   "execution_count": 62,
   "id": "d33ac9dd-ae0f-4efc-93e2-cd404491845b",
   "metadata": {},
   "outputs": [
    {
     "name": "stdout",
     "output_type": "stream",
     "text": [
      "Ground 23: 86 \n",
      "Dicom 23: 86\n"
     ]
    }
   ],
   "source": [
    "delete_23 = [i for i in range(27)] + [38,39,40,42,43,\n",
    "                                      45,46,47,49,50,51,53,54,\n",
    "                                      55,56,57,58,59,60,62,63,64,\n",
    "                                      67,68,69,70,71,72,73,74,75,\n",
    "                                      78,79,80,81,82,83,84,85,86,\n",
    "                                      89,90,91,92,93,94,97,98,\n",
    "                                      100,101,102,103,105,106,107,108,\n",
    "                                      111,112,113,114,116,117,118,119,\n",
    "                                      122,123,124,125,126,127,128,129,130,\n",
    "                                      133,134,135,137,138,139,140,141,\n",
    "                                      144,145,146,147,148,149,150,151,152,\n",
    "                                      155,156,157,158,159,160,161,163,\n",
    "                                      166,167,168,169,170,172,173,174,\n",
    "                                      177,178,179,180,181,183,184,185,\n",
    "                                      188,189,190,191,192,193,196,\n",
    "                                      200,201,202,203,204,205] \n",
    "del_img_v2(delete_23, 23, 6)\n",
    "\n",
    "delete_23_continue = [i for i in range(209,240)]\n",
    "del_img_v2(delete_23_continue, 23, 6)\n",
    "\n",
    "delete_23_continue = [31,36,44,52,65,87,88,99,109,110,115,120,131,142,143,171,186,187,194,195,197,198]\n",
    "del_img_v2(delete_23_continue, 23, 6)"
   ]
  },
  {
   "cell_type": "code",
   "execution_count": 67,
   "id": "409f9850-a046-40af-bac5-b9233aa1461a",
   "metadata": {},
   "outputs": [
    {
     "name": "stdout",
     "output_type": "stream",
     "text": [
      "Ground 24: 36 \n",
      "Dicom 24: 36\n"
     ]
    }
   ],
   "source": [
    "delete_24 = [3,4,5,7,8,9,10,\n",
    "             17,18,19,\n",
    "             24,25,26,27,28,29,30,31,32,\n",
    "             34,35,37,39,40,41,42,43,\n",
    "             45,47,49,50,51,52,53,54,\n",
    "             56,57,59,60,61,62,63,65,\n",
    "             67,68,70,71,73,74,75,76,\n",
    "             78,79,80,83,84,85,86,\n",
    "             89,90,91,93,94,95,97,98,\n",
    "             100,101,102,103,104,105,106,107,108,109,\n",
    "             110,111,112,113,114,115,116,117,118,119,120]\n",
    "\n",
    "del_img_v2(delete_24, 24, 7)"
   ]
  },
  {
   "cell_type": "code",
   "execution_count": 70,
   "id": "83d9be4b-880b-44a9-b428-e3a0e1fc7c47",
   "metadata": {},
   "outputs": [
    {
     "name": "stdout",
     "output_type": "stream",
     "text": [
      "Ground 25: 39 \n",
      "Dicom 25: 39\n"
     ]
    }
   ],
   "source": [
    "delete_25 = [i for i in range(0, 15)] + [i for i in range(136, 232)] +\\\n",
    "[23,24,26,27,28,30,31,\n",
    " 34,35,36,37,38,40,41,42,43,\n",
    " 44,45,46,47,48,49,50,52,53,54,\n",
    " 56,57,58,59,60,61,62,63,65,\n",
    " 67,68,69,71,72,73,74,75,76,\n",
    " 78,79,80,81,82,83,84,85,87,\n",
    " 88,89,90,91,92,93,96,97,98,\n",
    " 99,100,102,103,106,108,109,\n",
    " 111,112,113,114,115,116,117,118,120,\n",
    " 122,123,124,125,127,129,132]\n",
    "    \n",
    "del_img_v2(delete_25, 25, 8)"
   ]
  },
  {
   "cell_type": "code",
   "execution_count": 71,
   "id": "a357f979-56b9-46de-ab7f-d682fb52ff7a",
   "metadata": {},
   "outputs": [
    {
     "name": "stdout",
     "output_type": "stream",
     "text": [
      "Ground 26: 38 \n",
      "Dicom 26: 38\n"
     ]
    }
   ],
   "source": [
    "delete_26 = [5,6,9,10,\n",
    "             15,16,19,20,\n",
    "             23,24,25,27,28,29,30,\n",
    "             34,35,36,37,38,39,40,41,42,43,\n",
    "             45,46,47,48,49,50,51,53,54,\n",
    "             56,57,59,60,61,62,64,65,\n",
    "             66,67,68,69,71,73,74,75,76,\n",
    "             78,79,80,81,83,84,85,86,\n",
    "             89,90,91,93,94,95,96,97,\n",
    "             99,100,101,102,104,105,106,\n",
    "             112,113]\n",
    "    \n",
    "del_img_v2(delete_26, 26, 9)"
   ]
  },
  {
   "cell_type": "code",
   "execution_count": 6,
   "id": "cffeee00-4139-4849-bdd8-13dcf0ab0145",
   "metadata": {},
   "outputs": [
    {
     "name": "stdout",
     "output_type": "stream",
     "text": [
      "Ground 27: 41 \n",
      "Dicom 27: 41\n"
     ]
    }
   ],
   "source": [
    "delete_27 = [i for i in range(26)] + [i for i in range(212,242)] + \\\n",
    "[33,34,35,37,38,\n",
    " 41,42,43,44,45,46,47,48,\n",
    " 55,56,57,58,59,\n",
    " 60,61,62,63,64,6566,67,68,69,\n",
    " 71,72,73,74,75,76,77,78,79,\n",
    " 80,81,82,84,85,87,88,89,\n",
    " 91,92,93,94,95,96,97,98,99,\n",
    " 100,102,104,105,106,107,108,\n",
    " 110,111,112,113,114,115,116,117,118,119,\n",
    " 121,122,123,124,125,126,127,128,129,\n",
    " 131,132,134,135,136,137,138,139,\n",
    " 141,142,143,144,145,146,147,149,\n",
    " 151,152,153,154,155,156,157,158,159,\n",
    " 161,162,163,164,165,166,167,168,169,\n",
    " 171,172,173.174,175,176,177,178,179,\n",
    " 181,182,183,184,185,186,187,188,189,\n",
    " 191,192,193,194,195,196,197,198,\n",
    " 201,202,203,204,205,206,207,208,209]\n",
    "    \n",
    "del_img_v2(delete_27, 27, 10)\n",
    "\n",
    "delete_27 = [28,54,66,83,103,120,173,174]\n",
    "    \n",
    "del_img_v2(delete_27, 27, 10)"
   ]
  },
  {
   "cell_type": "code",
   "execution_count": 7,
   "id": "8297bc07-3908-462a-9f38-13715d943385",
   "metadata": {},
   "outputs": [
    {
     "name": "stdout",
     "output_type": "stream",
     "text": [
      "Ground 28: 25 \n",
      "Dicom 28: 25\n"
     ]
    }
   ],
   "source": [
    "delete_28 = [2,3,4,6,9,\n",
    "             12,13,14,15,17,18,19,20,\n",
    "             21,22,23,24,25,26,27,28,29,30,31,\n",
    "             33,34,35,36,37,38,41,43,\n",
    "             44,45,46,47,48,49,50,52,53,\n",
    "             56,57,58,59,60,61,63,64,65,\n",
    "             67,68,69,70,71,72,74,75,76,\n",
    "             78,79,81,82,83,84,85,86,\n",
    "             88,89,90,91,93,94,95,96,97,\n",
    "             100]\n",
    "    \n",
    "del_img_v2(delete_28, 28, 11)"
   ]
  },
  {
   "cell_type": "code",
   "execution_count": null,
   "id": "2821df63-55d7-4961-b7bc-9d34547c4303",
   "metadata": {},
   "outputs": [],
   "source": [
    "delete_28 = [2,3,4,6,9,\n",
    "             12,13,14,15,17,18,19,20,\n",
    "             21,22,23,24,25,26,27,28,29,30,31,\n",
    "             33,34,35,36,37,38,41,43,\n",
    "             44,45,46,47,48,49,50,52,53,\n",
    "             56,57,58,59,60,61,63,64,65,\n",
    "             67,68,69,70,71,72,74,75,76,\n",
    "             78,79,81,82,83,84,85,86,\n",
    "             88,89,90,91,93,94,95,96,97,\n",
    "             100]\n",
    "    \n",
    "del_img_v2(delete_28, 28, 11)"
   ]
  },
  {
   "cell_type": "code",
   "execution_count": 10,
   "id": "e0c3a4a9-3b04-4c84-ba65-d8bdafa9348a",
   "metadata": {},
   "outputs": [
    {
     "name": "stdout",
     "output_type": "stream",
     "text": [
      "Ground 29: 45 \n",
      "Dicom 29: 45\n"
     ]
    }
   ],
   "source": [
    "delete_29 = [i for i in range(51)] + [i for i in range(211,214)] + \\\n",
    "[60,65,\n",
    " 67,68,69,70,71,72,74,75,76,\n",
    " 78,79,80,81,82,84,85,86,87,\n",
    " 89,90,91,92,93,95,96,97,98,\n",
    " 100,101,102,103,104,106,107,109,\n",
    " 110,111,112,114,115,116,117,118,119,120,\n",
    " 122,123,124,125,126,127,128,129,130,\n",
    " 133,134,135,136,137,139,140,141,142,\n",
    " 144,145,147,149,150,151,152,153,\n",
    " 155,156,157,158,159,161,162,163,164,\n",
    " 166,167,168,169,170,172,173,174,175,\n",
    " 177,178,179,180,181,183,184,185,186,\n",
    " 188,189,190,191,192,194,195,196,197,\n",
    " 199,200,201,202,203,206]\n",
    "    \n",
    "del_img_v2(delete_29, 29, 12)\n",
    "\n",
    "delete_29 = [53,58,64,88,94,99,146,148,160,176,187,207]\n",
    "    \n",
    "del_img_v2(delete_29, 29, 12)"
   ]
  },
  {
   "cell_type": "code",
   "execution_count": 36,
   "id": "9a6c38ad-d138-47d1-8e42-ac1cc31983a7",
   "metadata": {},
   "outputs": [
    {
     "name": "stdout",
     "output_type": "stream",
     "text": [
      "Patient: 1\n",
      "34 34\n",
      "Patient: 14\n",
      "28 28\n",
      "Patient: 16\n",
      "34 34\n",
      "Patient: 18\n",
      "38 38\n",
      "Patient: 19\n",
      "28 28\n",
      "Patient: 22\n",
      "29 29\n",
      "Patient: 23\n",
      "33 33\n",
      "Patient: 24\n",
      "36 36\n",
      "Patient: 25\n",
      "39 39\n",
      "Patient: 26\n",
      "38 38\n",
      "Patient: 27\n",
      "33 33\n",
      "Patient: 28\n",
      "25 25\n",
      "Patient: 29\n",
      "33 33\n",
      "Patient: 5\n",
      "26 26\n",
      "Patient: 6\n",
      "36 36\n",
      "Patient: 8\n",
      "33 33\n",
      "523\n"
     ]
    }
   ],
   "source": [
    "patient_number = sorted(os.listdir('train/ct'))\n",
    "ct_total = []\n",
    "for patient in patient_number:\n",
    "    print(\"Patient:\",patient)\n",
    "    print(len(os.listdir(f'train/ct/{patient}/Ground')), len(os.listdir(f'train/ct/{patient}/DICOM_anon')))\n",
    "    ct_total.append(len(os.listdir(f'train/ct/{patient}/Ground')))\n",
    "                 \n",
    "print(sum(ct_total))"
   ]
  },
  {
   "cell_type": "code",
   "execution_count": 37,
   "id": "8113ac52-9923-4cb4-baeb-94b10761189c",
   "metadata": {},
   "outputs": [
    {
     "name": "stdout",
     "output_type": "stream",
     "text": [
      "Patient: 1\n",
      "36 36\n",
      "Patient: 13\n",
      "30 30\n",
      "Patient: 15\n",
      "26 26\n",
      "Patient: 19\n",
      "30 30\n",
      "Patient: 20\n",
      "26 26\n",
      "Patient: 21\n",
      "31 31\n",
      "Patient: 22\n",
      "33 33\n",
      "Patient: 3\n",
      "30 30\n",
      "Patient: 32\n",
      "39 39\n",
      "Patient: 33\n",
      "29 29\n",
      "Patient: 34\n",
      "30 30\n",
      "Patient: 36\n",
      "38 38\n",
      "Patient: 37\n",
      "32 32\n",
      "Patient: 38\n",
      "34 34\n",
      "Patient: 5\n",
      "30 30\n",
      "Patient: 8\n",
      "32 32\n",
      "506\n"
     ]
    }
   ],
   "source": [
    "patient_number = sorted(os.listdir('train/t2'))\n",
    "t2_total = []\n",
    "for patient in patient_number:\n",
    "    print(\"Patient:\",patient)\n",
    "    print(len(os.listdir(f'train/t2/{patient}/Ground')), len(os.listdir(f'train/t2/{patient}/DICOM_anon')))\n",
    "    t2_total.append(len(os.listdir(f'train/t2/{patient}/Ground')))\n",
    "    \n",
    "print(sum(t2_total))"
   ]
  },
  {
   "cell_type": "code",
   "execution_count": null,
   "id": "d2b51b86-1768-457f-8432-2e1c2a1a5380",
   "metadata": {},
   "outputs": [],
   "source": []
  },
  {
   "cell_type": "code",
   "execution_count": 3,
   "id": "29a668cf-2cc9-490e-a9fd-8c24e583630c",
   "metadata": {},
   "outputs": [],
   "source": [
    "def del_img(array, patient_number):\n",
    "    for i in array:\n",
    "        if len(str(i)) == 1:\n",
    "            os.remove(f'dev/ct/{patient_number}/DICOM_anon/i000{i},0000b.dcm')\n",
    "            os.remove(f'dev/ct/{patient_number}/Ground/liver_GT_00{i}.png')\n",
    "        if len(str(i)) == 2:\n",
    "            os.remove(f'dev/ct/{patient_number}/DICOM_anon/i00{i},0000b.dcm')\n",
    "            os.remove(f'dev/ct/{patient_number}/Ground/liver_GT_0{i}.png')\n",
    "        if len(str(i)) == 3:\n",
    "            os.remove(f'dev/ct/{patient_number}/DICOM_anon/i0{i},0000b.dcm')\n",
    "            os.remove(f'dev/ct/{patient_number}/Ground/liver_GT_{i}.png')\n",
    "        \n",
    "    print(f\"Ground {patient_number}: {len(os.listdir(f'dev/ct/{patient_number}/Ground/'))} \\n\\\n",
    "Dicom {patient_number}: {len(os.listdir(f'dev/ct/{patient_number}/Ground/'))}\")\n",
    "    \n",
    "def print_file(patient_number):\n",
    "    for i in range(len(os.listdir(f'dev/ct/{patient_number}/Ground/'))):\n",
    "        print(os.listdir(f'dev/ct/{patient_number}/Ground/')[i], '\\t', os.listdir(f'dev/ct/{patient_number}/DICOM_anon/')[i])"
   ]
  },
  {
   "cell_type": "code",
   "execution_count": 4,
   "id": "2e511009-5c16-4680-b680-cfa81631d738",
   "metadata": {},
   "outputs": [
    {
     "name": "stdout",
     "output_type": "stream",
     "text": [
      "Ground 2: 25 \n",
      "Dicom 2: 25\n"
     ]
    }
   ],
   "source": [
    "delete_2 = [3,4,6,7,9,10,\n",
    "            12,13,14,16,17,19,20,21,\n",
    "            23,24,25,26,28,29,31,32,\n",
    "            35,36,38,39,40,42,43,\n",
    "            44,45,47,48,49,51,52,53,54,\n",
    "            56,57,58,61,62,63,64,65,\n",
    "            66,68,69,70,72,73,74,76,\n",
    "            78,79]\n",
    "    \n",
    "del_img(delete_2, 2)"
   ]
  },
  {
   "cell_type": "code",
   "execution_count": null,
   "id": "299a9e93-0e45-4d2c-acd7-b4de9eff7761",
   "metadata": {},
   "outputs": [],
   "source": [
    "delete_2 = [3,4,6,7,9,10,\n",
    "            12,13,14,16,17,19,20,21,\n",
    "            23,24,25,26,28,29,31,32,\n",
    "            35,36,38,39,40,42,43,\n",
    "            44,45,47,48,49,51,52,53,54,\n",
    "            56,57,58,61,62,63,64,65,\n",
    "            66,68,69,70,72,73,74,76,\n",
    "            78,79]\n",
    "    \n",
    "del_img(delete_2, 2)"
   ]
  }
 ],
 "metadata": {
  "kernelspec": {
   "display_name": "Python 3 (ipykernel)",
   "language": "python",
   "name": "python3"
  },
  "language_info": {
   "codemirror_mode": {
    "name": "ipython",
    "version": 3
   },
   "file_extension": ".py",
   "mimetype": "text/x-python",
   "name": "python",
   "nbconvert_exporter": "python",
   "pygments_lexer": "ipython3",
   "version": "3.9.16"
  }
 },
 "nbformat": 4,
 "nbformat_minor": 5
}
